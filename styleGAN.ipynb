{
  "cells": [
    {
      "cell_type": "markdown",
      "metadata": {
        "id": "view-in-github",
        "colab_type": "text"
      },
      "source": [
        "<a href=\"https://colab.research.google.com/github/andreianmatos/temporal_spaces_texture_gen/blob/main/styleGAN.ipynb\" target=\"_parent\"><img src=\"https://colab.research.google.com/assets/colab-badge.svg\" alt=\"Open In Colab\"/></a>"
      ]
    },
    {
      "cell_type": "markdown",
      "metadata": {
        "id": "mDuLAzjizDWc"
      },
      "source": [
        "Use of an open-source PyTorch implementation of StyleGAN2 - https://github.com/lucidrains/stylegan2-pytorch - setup for training using Colab's free GPU resources and Google Drive - https://github.com/96jonesa/StyleGan2-Colab-Demo .\n",
        "\n",
        "Training results and models are saved to the local runtime's 'results' and 'models' directories (folder icon on left bar), or to your Google Drive (give access in cell  below) in subdirectories of a parent directory named 'StyleGan2_small_set_demo'.\n"
      ]
    },
    {
      "cell_type": "markdown",
      "metadata": {
        "id": "GA1sJxmhzXlh"
      },
      "source": [
        "# StyleGan2:\n",
        "\n",
        "<div>\n",
        "<img src=\"https://github.com/andreianmatos/temporal_spaces_texture_gen/blob/main/stylegan_gif.gif?raw=true\" width=\"400\"/>\n",
        "</div>\n",
        "\n",
        "0. Login to Google (Drive)\n",
        "1. Click 'Copy to Drive' above to make a runnable copy of this notebook.\n",
        "2. Run this cell (click the play button in top left of cell) to connect to a runtime instance.\n",
        "3. Navigate to 'Runtime > Change Runtime Type > Hardware Accelerator' and select GPU.\n",
        "4. If needed, modify the variables found in the cell below to select behavior of demo.\n",
        "5. Run cells."
      ]
    },
    {
      "cell_type": "code",
      "execution_count": 6,
      "metadata": {
        "id": "R8lZLs-H3-_3"
      },
      "outputs": [],
      "source": [
        "USE_DATASET = 'all_members_64'\n",
        "\n",
        "TRAINING_FROM_SCRATCH = True # set True if training from scratch, False if training from last checkpoint\n",
        "MODEL_NAME = 'model'\n",
        "MODEL_NUM_TRAIN_STEPS = 3000\n",
        "\n",
        "LOW_NETWORK_CAPACITY = False # set True to use significantly lower network capacity\n",
        "USE_GOOGLE_DRIVE_FOR_TRAINING = True # save models and results directly to your Google Drive\n",
        "\n",
        "# 'none', 'first', 'every'\n",
        "USE_ATTENTION_LAYERS = 'none' # which layers do you want attention applied to?\n",
        "# dataset consists of relatively simple patterns and structures, and you don't observe significant long-range dependencies in your images\n",
        "\n",
        "MODEL_AUGMENTATION_PROBABILITY = 0\n",
        "MODEL_LEARNING_RATE = 2e-4\n",
        "MODEL_IMAGE_SIZE = 64"
      ]
    },
    {
      "cell_type": "code",
      "execution_count": 7,
      "metadata": {
        "colab": {
          "base_uri": "https://localhost:8080/"
        },
        "id": "9DBbOtcUlE2w",
        "outputId": "80c114bb-1fb2-4dab-fa37-3f83aced47d2"
      },
      "outputs": [
        {
          "output_type": "stream",
          "name": "stdout",
          "text": [
            "Mounted at /content/drive\n"
          ]
        }
      ],
      "source": [
        "# Mounts your Google Drive so files can be saved to it. Note that this also allows\n",
        "# files to be read from it, so only authorize this if you are comfortable doing so\n",
        "# and/or using a disposable Google Drive account.\n",
        "\n",
        "if USE_GOOGLE_DRIVE_FOR_TRAINING:\n",
        "    from google.colab import drive\n",
        "    drive.mount('/content/drive')\n",
        "\n",
        "    !mkdir -p \"/content/drive/My Drive/StyleGan2_small_set_demo\""
      ]
    },
    {
      "cell_type": "code",
      "execution_count": 8,
      "metadata": {
        "id": "0EKhglHWE6bW"
      },
      "outputs": [],
      "source": [
        "MODEL_NETWORK_CAPACITY = 16\n",
        "if LOW_NETWORK_CAPACITY:\n",
        "    MODEL_NETWORK_CAPACITY = 4\n",
        "\n",
        "MODEL_ATTENTION_LAYERS = []\n",
        "if USE_ATTENTION_LAYERS == 'first':\n",
        "    MODEL_ATTENTION_LAYERS = \"[1]\"\n",
        "elif USE_ATTENTION_LAYERS == 'every':\n",
        "    MODEL_ATTENTION_LAYERS = \"[1,2,3,4,5,6]\"\n",
        "\n",
        "MODEL_NAME = USE_DATASET + '_' + MODEL_NAME"
      ]
    },
    {
      "cell_type": "code",
      "execution_count": 9,
      "metadata": {
        "colab": {
          "base_uri": "https://localhost:8080/"
        },
        "id": "1ShcNlPdbOnm",
        "outputId": "08d13af4-78ea-45ee-a464-f07807b86ef8"
      },
      "outputs": [
        {
          "output_type": "stream",
          "name": "stdout",
          "text": [
            "Collecting stylegan2_pytorch==0.17.1\n",
            "  Downloading stylegan2_pytorch-0.17.1-py3-none-any.whl (23 kB)\n",
            "Collecting fire (from stylegan2_pytorch==0.17.1)\n",
            "  Downloading fire-0.5.0.tar.gz (88 kB)\n",
            "\u001b[2K     \u001b[90m━━━━━━━━━━━━━━━━━━━━━━━━━━━━━━━━━━━━━━━━\u001b[0m \u001b[32m88.3/88.3 kB\u001b[0m \u001b[31m1.7 MB/s\u001b[0m eta \u001b[36m0:00:00\u001b[0m\n",
            "\u001b[?25h  Preparing metadata (setup.py) ... \u001b[?25l\u001b[?25hdone\n",
            "Requirement already satisfied: numpy in /usr/local/lib/python3.10/dist-packages (from stylegan2_pytorch==0.17.1) (1.23.5)\n",
            "Collecting retry (from stylegan2_pytorch==0.17.1)\n",
            "  Downloading retry-0.9.2-py2.py3-none-any.whl (8.0 kB)\n",
            "Requirement already satisfied: tqdm in /usr/local/lib/python3.10/dist-packages (from stylegan2_pytorch==0.17.1) (4.66.1)\n",
            "Requirement already satisfied: torch in /usr/local/lib/python3.10/dist-packages (from stylegan2_pytorch==0.17.1) (2.1.0+cu121)\n",
            "Requirement already satisfied: torchvision in /usr/local/lib/python3.10/dist-packages (from stylegan2_pytorch==0.17.1) (0.16.0+cu121)\n",
            "Requirement already satisfied: pillow in /usr/local/lib/python3.10/dist-packages (from stylegan2_pytorch==0.17.1) (9.4.0)\n",
            "Collecting adamp (from stylegan2_pytorch==0.17.1)\n",
            "  Downloading adamp-0.3.0.tar.gz (5.1 kB)\n",
            "  Preparing metadata (setup.py) ... \u001b[?25l\u001b[?25hdone\n",
            "Collecting contrastive-learner>=0.1.0 (from stylegan2_pytorch==0.17.1)\n",
            "  Downloading contrastive_learner-0.1.1-py3-none-any.whl (4.9 kB)\n",
            "Collecting linear-attention-transformer (from stylegan2_pytorch==0.17.1)\n",
            "  Downloading linear_attention_transformer-0.19.1-py3-none-any.whl (12 kB)\n",
            "Collecting vector-quantize-pytorch (from stylegan2_pytorch==0.17.1)\n",
            "  Downloading vector_quantize_pytorch-1.12.16-py3-none-any.whl (24 kB)\n",
            "Collecting kornia (from contrastive-learner>=0.1.0->stylegan2_pytorch==0.17.1)\n",
            "  Downloading kornia-0.7.1-py2.py3-none-any.whl (756 kB)\n",
            "\u001b[2K     \u001b[90m━━━━━━━━━━━━━━━━━━━━━━━━━━━━━━━━━━━━━━━━\u001b[0m \u001b[32m756.0/756.0 kB\u001b[0m \u001b[31m9.0 MB/s\u001b[0m eta \u001b[36m0:00:00\u001b[0m\n",
            "\u001b[?25hRequirement already satisfied: six in /usr/local/lib/python3.10/dist-packages (from fire->stylegan2_pytorch==0.17.1) (1.16.0)\n",
            "Requirement already satisfied: termcolor in /usr/local/lib/python3.10/dist-packages (from fire->stylegan2_pytorch==0.17.1) (2.4.0)\n",
            "Collecting axial-positional-embedding (from linear-attention-transformer->stylegan2_pytorch==0.17.1)\n",
            "  Downloading axial_positional_embedding-0.2.1.tar.gz (2.6 kB)\n",
            "  Preparing metadata (setup.py) ... \u001b[?25l\u001b[?25hdone\n",
            "Collecting einops (from linear-attention-transformer->stylegan2_pytorch==0.17.1)\n",
            "  Downloading einops-0.7.0-py3-none-any.whl (44 kB)\n",
            "\u001b[2K     \u001b[90m━━━━━━━━━━━━━━━━━━━━━━━━━━━━━━━━━━━━━━━━\u001b[0m \u001b[32m44.6/44.6 kB\u001b[0m \u001b[31m7.6 MB/s\u001b[0m eta \u001b[36m0:00:00\u001b[0m\n",
            "\u001b[?25hCollecting linformer>=0.1.0 (from linear-attention-transformer->stylegan2_pytorch==0.17.1)\n",
            "  Downloading linformer-0.2.3-py3-none-any.whl (6.2 kB)\n",
            "Collecting local-attention (from linear-attention-transformer->stylegan2_pytorch==0.17.1)\n",
            "  Downloading local_attention-1.9.0-py3-none-any.whl (8.2 kB)\n",
            "Collecting product-key-memory>=0.1.5 (from linear-attention-transformer->stylegan2_pytorch==0.17.1)\n",
            "  Downloading product_key_memory-0.2.10-py3-none-any.whl (6.4 kB)\n",
            "Requirement already satisfied: decorator>=3.4.2 in /usr/local/lib/python3.10/dist-packages (from retry->stylegan2_pytorch==0.17.1) (4.4.2)\n",
            "Collecting py<2.0.0,>=1.4.26 (from retry->stylegan2_pytorch==0.17.1)\n",
            "  Downloading py-1.11.0-py2.py3-none-any.whl (98 kB)\n",
            "\u001b[2K     \u001b[90m━━━━━━━━━━━━━━━━━━━━━━━━━━━━━━━━━━━━━━━━\u001b[0m \u001b[32m98.7/98.7 kB\u001b[0m \u001b[31m16.8 MB/s\u001b[0m eta \u001b[36m0:00:00\u001b[0m\n",
            "\u001b[?25hRequirement already satisfied: filelock in /usr/local/lib/python3.10/dist-packages (from torch->stylegan2_pytorch==0.17.1) (3.13.1)\n",
            "Requirement already satisfied: typing-extensions in /usr/local/lib/python3.10/dist-packages (from torch->stylegan2_pytorch==0.17.1) (4.5.0)\n",
            "Requirement already satisfied: sympy in /usr/local/lib/python3.10/dist-packages (from torch->stylegan2_pytorch==0.17.1) (1.12)\n",
            "Requirement already satisfied: networkx in /usr/local/lib/python3.10/dist-packages (from torch->stylegan2_pytorch==0.17.1) (3.2.1)\n",
            "Requirement already satisfied: jinja2 in /usr/local/lib/python3.10/dist-packages (from torch->stylegan2_pytorch==0.17.1) (3.1.3)\n",
            "Requirement already satisfied: fsspec in /usr/local/lib/python3.10/dist-packages (from torch->stylegan2_pytorch==0.17.1) (2023.6.0)\n",
            "Requirement already satisfied: triton==2.1.0 in /usr/local/lib/python3.10/dist-packages (from torch->stylegan2_pytorch==0.17.1) (2.1.0)\n",
            "Requirement already satisfied: requests in /usr/local/lib/python3.10/dist-packages (from torchvision->stylegan2_pytorch==0.17.1) (2.31.0)\n",
            "Collecting einx (from vector-quantize-pytorch->stylegan2_pytorch==0.17.1)\n",
            "  Downloading einx-0.1.1.tar.gz (54 kB)\n",
            "\u001b[2K     \u001b[90m━━━━━━━━━━━━━━━━━━━━━━━━━━━━━━━━━━━━━━━━\u001b[0m \u001b[32m54.2/54.2 kB\u001b[0m \u001b[31m9.2 MB/s\u001b[0m eta \u001b[36m0:00:00\u001b[0m\n",
            "\u001b[?25h  Preparing metadata (setup.py) ... \u001b[?25l\u001b[?25hdone\n",
            "Collecting colt5-attention>=0.10.14 (from product-key-memory>=0.1.5->linear-attention-transformer->stylegan2_pytorch==0.17.1)\n",
            "  Downloading CoLT5_attention-0.10.19-py3-none-any.whl (18 kB)\n",
            "Requirement already satisfied: frozendict in /usr/local/lib/python3.10/dist-packages (from einx->vector-quantize-pytorch->stylegan2_pytorch==0.17.1) (2.4.0)\n",
            "Requirement already satisfied: MarkupSafe>=2.0 in /usr/local/lib/python3.10/dist-packages (from jinja2->torch->stylegan2_pytorch==0.17.1) (2.1.3)\n",
            "Requirement already satisfied: packaging in /usr/local/lib/python3.10/dist-packages (from kornia->contrastive-learner>=0.1.0->stylegan2_pytorch==0.17.1) (23.2)\n",
            "Requirement already satisfied: charset-normalizer<4,>=2 in /usr/local/lib/python3.10/dist-packages (from requests->torchvision->stylegan2_pytorch==0.17.1) (3.3.2)\n",
            "Requirement already satisfied: idna<4,>=2.5 in /usr/local/lib/python3.10/dist-packages (from requests->torchvision->stylegan2_pytorch==0.17.1) (3.6)\n",
            "Requirement already satisfied: urllib3<3,>=1.21.1 in /usr/local/lib/python3.10/dist-packages (from requests->torchvision->stylegan2_pytorch==0.17.1) (2.0.7)\n",
            "Requirement already satisfied: certifi>=2017.4.17 in /usr/local/lib/python3.10/dist-packages (from requests->torchvision->stylegan2_pytorch==0.17.1) (2023.11.17)\n",
            "Requirement already satisfied: mpmath>=0.19 in /usr/local/lib/python3.10/dist-packages (from sympy->torch->stylegan2_pytorch==0.17.1) (1.3.0)\n",
            "Building wheels for collected packages: adamp, fire, axial-positional-embedding, einx\n",
            "  Building wheel for adamp (setup.py) ... \u001b[?25l\u001b[?25hdone\n",
            "  Created wheel for adamp: filename=adamp-0.3.0-py3-none-any.whl size=5983 sha256=e11c9fd06ab547010e289baefce7b88f23b9080517c1e0c9ccd332d670a9fb84\n",
            "  Stored in directory: /root/.cache/pip/wheels/c7/ad/0f/b41b1c45b18c66e5eef5d2254415af8055c7e2b0934145157d\n",
            "  Building wheel for fire (setup.py) ... \u001b[?25l\u001b[?25hdone\n",
            "  Created wheel for fire: filename=fire-0.5.0-py2.py3-none-any.whl size=116934 sha256=90d13e56865ca5929041a7540999a7a3617ca3d5fdd2793dbd32e92cc83196aa\n",
            "  Stored in directory: /root/.cache/pip/wheels/90/d4/f7/9404e5db0116bd4d43e5666eaa3e70ab53723e1e3ea40c9a95\n",
            "  Building wheel for axial-positional-embedding (setup.py) ... \u001b[?25l\u001b[?25hdone\n",
            "  Created wheel for axial-positional-embedding: filename=axial_positional_embedding-0.2.1-py3-none-any.whl size=2882 sha256=60090d2acc6b032066ddc430414f06ec46661f169c34f5ab76c0f7a4464871c8\n",
            "  Stored in directory: /root/.cache/pip/wheels/b1/cb/39/7ce7ff2d2fd37cfe1fe7b3a3c43cf410632b2ad3b3f3986d73\n",
            "  Building wheel for einx (setup.py) ... \u001b[?25l\u001b[?25hdone\n",
            "  Created wheel for einx: filename=einx-0.1.1-py3-none-any.whl size=74642 sha256=b5127df1c8d46b47092c0c1938001bb93e4365d8218edc94bfe67684c171aa32\n",
            "  Stored in directory: /root/.cache/pip/wheels/a2/1b/9b/ff487555d92c2984a3b952d68c5e361bd9e76503878bde8a14\n",
            "Successfully built adamp fire axial-positional-embedding einx\n",
            "Installing collected packages: adamp, py, fire, einops, retry, einx, vector-quantize-pytorch, local-attention, linformer, kornia, axial-positional-embedding, contrastive-learner, colt5-attention, product-key-memory, linear-attention-transformer, stylegan2_pytorch\n",
            "Successfully installed adamp-0.3.0 axial-positional-embedding-0.2.1 colt5-attention-0.10.19 contrastive-learner-0.1.1 einops-0.7.0 einx-0.1.1 fire-0.5.0 kornia-0.7.1 linear-attention-transformer-0.19.1 linformer-0.2.3 local-attention-1.9.0 product-key-memory-0.2.10 py-1.11.0 retry-0.9.2 stylegan2_pytorch-0.17.1 vector-quantize-pytorch-1.12.16\n"
          ]
        }
      ],
      "source": [
        "# Installs the architecture from:\n",
        "# https://github.com/lucidrains/stylegan2-pytorch\n",
        "\n",
        "!pip install stylegan2_pytorch==0.17.1"
      ]
    },
    {
      "cell_type": "code",
      "execution_count": 10,
      "metadata": {
        "id": "Fv3pbXk1f7f7"
      },
      "outputs": [],
      "source": [
        "# Utilities for downloading publicly shared Google Drive files (from your Google Drive).\n",
        "\n",
        "import requests\n",
        "\n",
        "def download_file_from_google_drive(id, destination):\n",
        "    URL = 'https://docs.google.com/uc?export=download'\n",
        "\n",
        "    session = requests.Session()\n",
        "\n",
        "    response = session.get(URL, params = { 'id' : id }, stream = True)\n",
        "    token = get_confirm_token(response)\n",
        "\n",
        "    if token:\n",
        "        params = { 'id' : id, 'confirm' : token }\n",
        "        response = session.get(URL, params = params, stream = True)\n",
        "\n",
        "    save_response_content(response, destination)\n",
        "\n",
        "def get_confirm_token(response):\n",
        "    for key, value in response.cookies.items():\n",
        "        if key.startswith('download_warning'):\n",
        "            return value\n",
        "\n",
        "    return None\n",
        "\n",
        "def save_response_content(response, destination):\n",
        "    CHUNK_SIZE = 32768\n",
        "\n",
        "    with open(destination, 'wb') as f:\n",
        "        for chunk in response.iter_content(CHUNK_SIZE):\n",
        "            if chunk: # filter out keep-alive new chunks\n",
        "                f.write(chunk)"
      ]
    },
    {
      "cell_type": "code",
      "execution_count": 11,
      "metadata": {
        "colab": {
          "base_uri": "https://localhost:8080/"
        },
        "id": "UUNC4_8K7LWL",
        "outputId": "9aefccf9-a6b1-48b3-81bc-5446c7dc000d"
      },
      "outputs": [
        {
          "output_type": "stream",
          "name": "stdout",
          "text": [
            "Requirement already satisfied: linformer in /usr/local/lib/python3.10/dist-packages (0.2.3)\n",
            "Requirement already satisfied: torch in /usr/local/lib/python3.10/dist-packages (from linformer) (2.1.0+cu121)\n",
            "Requirement already satisfied: filelock in /usr/local/lib/python3.10/dist-packages (from torch->linformer) (3.13.1)\n",
            "Requirement already satisfied: typing-extensions in /usr/local/lib/python3.10/dist-packages (from torch->linformer) (4.5.0)\n",
            "Requirement already satisfied: sympy in /usr/local/lib/python3.10/dist-packages (from torch->linformer) (1.12)\n",
            "Requirement already satisfied: networkx in /usr/local/lib/python3.10/dist-packages (from torch->linformer) (3.2.1)\n",
            "Requirement already satisfied: jinja2 in /usr/local/lib/python3.10/dist-packages (from torch->linformer) (3.1.3)\n",
            "Requirement already satisfied: fsspec in /usr/local/lib/python3.10/dist-packages (from torch->linformer) (2023.6.0)\n",
            "Requirement already satisfied: triton==2.1.0 in /usr/local/lib/python3.10/dist-packages (from torch->linformer) (2.1.0)\n",
            "Requirement already satisfied: MarkupSafe>=2.0 in /usr/local/lib/python3.10/dist-packages (from jinja2->torch->linformer) (2.1.3)\n",
            "Requirement already satisfied: mpmath>=0.19 in /usr/local/lib/python3.10/dist-packages (from sympy->torch->linformer) (1.3.0)\n"
          ]
        }
      ],
      "source": [
        "!pip install linformer"
      ]
    },
    {
      "cell_type": "code",
      "execution_count": 12,
      "metadata": {
        "id": "SVkgs8NSgHEo"
      },
      "outputs": [],
      "source": [
        "# Downloads and unzips the selected dataset from your Google Drive.\n",
        "\n",
        "import zipfile\n",
        "\n",
        "if USE_DATASET == 'all_members_64':\n",
        "\n",
        "    file_id = '1EjMb16e_tJ4YT-46WbSURKgB4pxureMC'\n",
        "    destination = 'all_members_64.zip'\n",
        "    download_file_from_google_drive(file_id, destination)\n",
        "    zip_ref = zipfile.ZipFile('all_members_64.zip', 'r')\n",
        "    zip_ref.extractall('data/all_members_64')\n",
        "    zip_ref.close()"
      ]
    },
    {
      "cell_type": "code",
      "execution_count": 13,
      "metadata": {
        "id": "cqsmQTyLan3_"
      },
      "outputs": [],
      "source": [
        "# Chooses the appropriate subdirectory of dataset for training.\n",
        "MODEL_DATA_DIR = 'data/all_members_64/'"
      ]
    },
    {
      "cell_type": "code",
      "execution_count": 14,
      "metadata": {
        "id": "Aj5WpwcZRMZ9"
      },
      "outputs": [],
      "source": [
        "# Establish directories for custom models.\n",
        "\n",
        "CUSTOM_RESULTS_DIR = './results'\n",
        "CUSTOM_MODELS_DIR = './models'\n",
        "\n",
        "if USE_GOOGLE_DRIVE_FOR_TRAINING:\n",
        "    CUSTOM_RESULTS_DIR = '\"/content/drive/My Drive/StyleGan2_small_set_demo/results\"'\n",
        "    CUSTOM_MODELS_DIR = '\"/content/drive/My Drive/StyleGan2_small_set_demo/models\"'"
      ]
    },
    {
      "cell_type": "code",
      "execution_count": 15,
      "metadata": {
        "colab": {
          "base_uri": "https://localhost:8080/"
        },
        "id": "KQUV0N8HQh1-",
        "outputId": "9cee9642-5374-4b52-8b62-0d20ef15ce60"
      },
      "outputs": [
        {
          "output_type": "stream",
          "name": "stdout",
          "text": [
            "all_members_64_model<data/all_members_64/>:   0% 0/3000 [00:00<?, ?it/s]G: 66.76 | D: 0.95 | GP: 164107.88 | PL: 0.01 | CR: 0.00 | Q: 0.00\n",
            "all_members_64_model<data/all_members_64/>:   1% 34/3000 [00:22<28:05,  1.76it/s]  G: 27.77 | D: 13.34 | GP: 11760.93 | PL: 0.02 | CR: 0.00 | Q: 0.00\n",
            "all_members_64_model<data/all_members_64/>:   3% 97/3000 [00:43<18:39,  2.59it/s]G: 9.07 | D: 11.65 | GP: 3155.72 | PL: 0.02 | CR: 0.00 | Q: 0.00\n",
            "all_members_64_model<data/all_members_64/>:   4% 128/3000 [00:53<17:29,  2.74it/s]G: 3.02 | D: 7.61 | GP: 839.01 | PL: 0.02 | CR: 0.00 | Q: 0.00\n",
            "all_members_64_model<data/all_members_64/>:   6% 192/3000 [01:14<16:02,  2.92it/s]G: 5.38 | D: 3.63 | GP: 273.19 | PL: 0.03 | CR: 0.00 | Q: 0.00\n",
            "all_members_64_model<data/all_members_64/>:   7% 222/3000 [01:25<16:01,  2.89it/s]G: 1.31 | D: 1.87 | GP: 119.04 | PL: 0.03 | CR: 0.00 | Q: 0.00\n",
            "all_members_64_model<data/all_members_64/>:  10% 288/3000 [01:46<14:56,  3.02it/s]G: 0.70 | D: 1.50 | GP: 31.01 | PL: 0.03 | CR: 0.00 | Q: 0.00\n",
            "all_members_64_model<data/all_members_64/>:  11% 320/3000 [01:57<15:02,  2.97it/s]G: 1.45 | D: 1.22 | GP: 12.35 | PL: 0.03 | CR: 0.00 | Q: 0.00\n",
            "all_members_64_model<data/all_members_64/>:  13% 384/3000 [02:18<14:16,  3.06it/s]G: 1.75 | D: 0.94 | GP: 1.40 | PL: 0.04 | CR: 0.00 | Q: 0.00\n",
            "all_members_64_model<data/all_members_64/>:  15% 448/3000 [02:40<14:14,  2.98it/s]G: 0.47 | D: 1.86 | GP: 1.62 | PL: 0.04 | CR: 0.00 | Q: 0.00\n",
            "all_members_64_model<data/all_members_64/>:  16% 479/3000 [02:50<14:02,  2.99it/s]G: 3.36 | D: 1.65 | GP: 0.41 | PL: 0.04 | CR: 0.00 | Q: 0.00\n",
            "all_members_64_model<data/all_members_64/>:  18% 540/3000 [03:10<13:44,  2.98it/s]G: 0.99 | D: 0.97 | GP: 1.09 | PL: 0.04 | CR: 0.00 | Q: 0.00\n",
            "all_members_64_model<data/all_members_64/>:  19% 570/3000 [03:21<13:37,  2.97it/s]G: 1.33 | D: 1.62 | GP: 0.22 | PL: 0.04 | CR: 0.00 | Q: 0.00\n",
            "all_members_64_model<data/all_members_64/>:  21% 632/3000 [03:41<13:11,  2.99it/s]G: 1.40 | D: 0.81 | GP: 0.09 | PL: 0.05 | CR: 0.00 | Q: 0.00\n",
            "all_members_64_model<data/all_members_64/>:  23% 694/3000 [04:02<12:49,  3.00it/s]G: 0.32 | D: 0.85 | GP: 1.02 | PL: 0.05 | CR: 0.00 | Q: 0.00\n",
            "all_members_64_model<data/all_members_64/>:  24% 725/3000 [04:12<12:44,  2.98it/s]G: 0.99 | D: 1.01 | GP: 0.18 | PL: 0.05 | CR: 0.00 | Q: 0.00\n",
            "all_members_64_model<data/all_members_64/>:  26% 785/3000 [04:33<12:26,  2.97it/s]G: 1.20 | D: 0.39 | GP: 0.53 | PL: 0.05 | CR: 0.00 | Q: 0.00\n",
            "all_members_64_model<data/all_members_64/>:  28% 847/3000 [04:53<12:01,  2.98it/s]G: 1.49 | D: 0.67 | GP: 4.72 | PL: 0.05 | CR: 0.00 | Q: 0.00\n",
            "all_members_64_model<data/all_members_64/>:  29% 877/3000 [05:04<11:54,  2.97it/s]G: 0.44 | D: 0.30 | GP: 0.49 | PL: 0.05 | CR: 0.00 | Q: 0.00\n",
            "all_members_64_model<data/all_members_64/>:  31% 938/3000 [05:24<11:28,  3.00it/s]G: 1.79 | D: 0.38 | GP: 0.06 | PL: 0.05 | CR: 0.00 | Q: 0.00\n",
            "all_members_64_model<data/all_members_64/>:  33% 1000/3000 [05:45<11:06,  3.00it/s]G: 3.40 | D: 0.38 | GP: 0.02 | PL: 0.05 | CR: 0.00 | Q: 0.00\n",
            "all_members_64_model<data/all_members_64/>:  34% 1025/3000 [06:01<13:42,  2.40it/s]G: 0.37 | D: 0.38 | GP: 0.02 | PL: 0.05 | CR: 0.00 | Q: 0.00\n",
            "all_members_64_model<data/all_members_64/>:  36% 1088/3000 [06:21<11:42,  2.72it/s]G: 0.58 | D: 0.17 | GP: 0.24 | PL: 0.06 | CR: 0.00 | Q: 0.00\n",
            "all_members_64_model<data/all_members_64/>:  38% 1150/3000 [06:43<10:56,  2.82it/s]G: 2.29 | D: 0.72 | GP: 0.13 | PL: 0.06 | CR: 0.00 | Q: 0.00\n",
            "all_members_64_model<data/all_members_64/>:  39% 1182/3000 [06:53<10:24,  2.91it/s]G: 0.78 | D: 0.14 | GP: 0.55 | PL: 0.06 | CR: 0.00 | Q: 0.00\n",
            "all_members_64_model<data/all_members_64/>:  41% 1243/3000 [07:14<10:08,  2.89it/s]G: 2.68 | D: 1.27 | GP: 0.89 | PL: 0.06 | CR: 0.00 | Q: 0.00\n",
            "all_members_64_model<data/all_members_64/>:  42% 1275/3000 [07:24<09:42,  2.96it/s]G: 1.15 | D: 0.48 | GP: 0.11 | PL: 0.06 | CR: 0.00 | Q: 0.00\n",
            "all_members_64_model<data/all_members_64/>:  45% 1336/3000 [07:46<09:30,  2.92it/s]G: 3.84 | D: 0.18 | GP: 0.07 | PL: 0.06 | CR: 0.00 | Q: 0.00\n",
            "all_members_64_model<data/all_members_64/>:  47% 1399/3000 [08:06<08:53,  3.00it/s]G: 1.04 | D: 0.49 | GP: 0.29 | PL: 0.06 | CR: 0.00 | Q: 0.00\n",
            "all_members_64_model<data/all_members_64/>:  48% 1431/3000 [08:18<08:52,  2.95it/s]G: 1.75 | D: 0.53 | GP: 0.60 | PL: 0.06 | CR: 0.00 | Q: 0.00\n",
            "all_members_64_model<data/all_members_64/>:  50% 1493/3000 [08:38<08:22,  3.00it/s]G: 1.19 | D: 0.53 | GP: 1.03 | PL: 0.07 | CR: 0.00 | Q: 0.00\n",
            "all_members_64_model<data/all_members_64/>:  51% 1525/3000 [08:49<08:17,  2.97it/s]G: 1.95 | D: 0.81 | GP: 0.21 | PL: 0.07 | CR: 0.00 | Q: 0.00\n",
            "all_members_64_model<data/all_members_64/>:  53% 1586/3000 [09:10<07:55,  2.97it/s]G: 0.61 | D: 0.55 | GP: 0.22 | PL: 0.07 | CR: 0.00 | Q: 0.00\n",
            "all_members_64_model<data/all_members_64/>:  55% 1647/3000 [09:30<07:34,  2.98it/s]G: 0.22 | D: 1.03 | GP: 0.29 | PL: 0.07 | CR: 0.00 | Q: 0.00\n",
            "all_members_64_model<data/all_members_64/>:  56% 1677/3000 [09:40<07:25,  2.97it/s]G: 0.91 | D: 0.65 | GP: 1.36 | PL: 0.07 | CR: 0.00 | Q: 0.00\n",
            "all_members_64_model<data/all_members_64/>:  58% 1738/3000 [10:01<07:02,  2.99it/s]G: 1.41 | D: 0.30 | GP: 0.10 | PL: 0.07 | CR: 0.00 | Q: 0.00\n",
            "all_members_64_model<data/all_members_64/>:  60% 1800/3000 [10:21<06:40,  3.00it/s]G: 1.67 | D: 0.69 | GP: 0.07 | PL: 0.08 | CR: 0.00 | Q: 0.00\n",
            "all_members_64_model<data/all_members_64/>:  61% 1831/3000 [10:32<06:30,  2.99it/s]G: 2.69 | D: 0.68 | GP: 0.26 | PL: 0.08 | CR: 0.00 | Q: 0.00\n",
            "all_members_64_model<data/all_members_64/>:  63% 1892/3000 [10:52<06:11,  2.98it/s]G: 1.88 | D: 0.59 | GP: 0.35 | PL: 0.08 | CR: 0.00 | Q: 0.00\n",
            "all_members_64_model<data/all_members_64/>:  64% 1923/3000 [11:02<05:59,  2.99it/s]G: 1.09 | D: 0.35 | GP: 0.01 | PL: 0.08 | CR: 0.00 | Q: 0.00\n",
            "all_members_64_model<data/all_members_64/>:  66% 1985/3000 [11:34<05:39,  2.99it/s]G: 1.79 | D: 0.75 | GP: 0.02 | PL: 0.08 | CR: 0.00 | Q: 0.00\n",
            "all_members_64_model<data/all_members_64/>:  68% 2033/3000 [11:46<06:10,  2.61it/s]G: 2.21 | D: 0.31 | GP: 0.63 | PL: 0.08 | CR: 0.00 | Q: 0.00\n",
            "all_members_64_model<data/all_members_64/>:  70% 2095/3000 [12:07<05:23,  2.80it/s]G: 1.34 | D: 0.68 | GP: 0.53 | PL: 0.08 | CR: 0.00 | Q: 0.00\n",
            "all_members_64_model<data/all_members_64/>:  71% 2125/3000 [12:17<05:10,  2.82it/s]G: 1.08 | D: 0.61 | GP: 0.09 | PL: 0.08 | CR: 0.00 | Q: 0.00\n",
            "all_members_64_model<data/all_members_64/>:  73% 2189/3000 [12:38<04:35,  2.94it/s]G: 2.37 | D: 0.35 | GP: 0.16 | PL: 0.09 | CR: 0.00 | Q: 0.00\n",
            "all_members_64_model<data/all_members_64/>:  74% 2219/3000 [12:49<04:29,  2.90it/s]G: 0.80 | D: 0.14 | GP: 0.05 | PL: 0.09 | CR: 0.00 | Q: 0.00\n",
            "all_members_64_model<data/all_members_64/>:  76% 2283/3000 [13:09<03:59,  3.00it/s]G: 1.18 | D: 0.54 | GP: 0.20 | PL: 0.09 | CR: 0.00 | Q: 0.00\n",
            "all_members_64_model<data/all_members_64/>:  78% 2345/3000 [13:31<03:40,  2.97it/s]G: 0.86 | D: 0.45 | GP: 0.02 | PL: 0.09 | CR: 0.00 | Q: 0.00\n",
            "all_members_64_model<data/all_members_64/>:  79% 2377/3000 [13:41<03:25,  3.03it/s]G: 2.38 | D: 0.48 | GP: 0.10 | PL: 0.09 | CR: 0.00 | Q: 0.00\n",
            "all_members_64_model<data/all_members_64/>:  81% 2439/3000 [14:02<03:09,  2.97it/s]G: 1.80 | D: 0.33 | GP: 0.22 | PL: 0.09 | CR: 0.00 | Q: 0.00\n",
            "all_members_64_model<data/all_members_64/>:  82% 2471/3000 [14:12<02:56,  3.00it/s]G: 0.88 | D: 0.63 | GP: 0.91 | PL: 0.10 | CR: 0.00 | Q: 0.00\n",
            "all_members_64_model<data/all_members_64/>:  84% 2535/3000 [14:33<02:34,  3.02it/s]G: 2.06 | D: 0.48 | GP: 1.15 | PL: 0.10 | CR: 0.00 | Q: 0.00\n",
            "all_members_64_model<data/all_members_64/>:  87% 2599/3000 [14:54<02:10,  3.08it/s]G: 1.68 | D: 0.44 | GP: 0.05 | PL: 0.10 | CR: 0.00 | Q: 0.00\n",
            "all_members_64_model<data/all_members_64/>:  88% 2632/3000 [15:05<02:00,  3.06it/s]G: 1.25 | D: 0.34 | GP: 0.06 | PL: 0.10 | CR: 0.00 | Q: 0.00\n",
            "all_members_64_model<data/all_members_64/>:  90% 2695/3000 [15:25<01:39,  3.06it/s]G: 1.11 | D: 0.85 | GP: 0.04 | PL: 0.10 | CR: 0.00 | Q: 0.00\n",
            "all_members_64_model<data/all_members_64/>:  91% 2727/3000 [15:36<01:28,  3.08it/s]G: 1.51 | D: 0.22 | GP: 0.03 | PL: 0.10 | CR: 0.00 | Q: 0.00\n",
            "all_members_64_model<data/all_members_64/>:  93% 2790/3000 [15:57<01:09,  3.03it/s]G: 2.24 | D: 0.39 | GP: 0.10 | PL: 0.10 | CR: 0.00 | Q: 0.00\n",
            "all_members_64_model<data/all_members_64/>:  94% 2823/3000 [16:07<00:57,  3.10it/s]G: 1.01 | D: 0.09 | GP: 0.50 | PL: 0.10 | CR: 0.00 | Q: 0.00\n",
            "all_members_64_model<data/all_members_64/>:  96% 2886/3000 [16:28<00:37,  3.04it/s]G: 1.37 | D: 0.13 | GP: 0.15 | PL: 0.10 | CR: 0.00 | Q: 0.00\n",
            "all_members_64_model<data/all_members_64/>:  98% 2950/3000 [16:49<00:16,  3.08it/s]G: 1.75 | D: 0.30 | GP: 0.63 | PL: 0.11 | CR: 0.00 | Q: 0.00\n",
            "all_members_64_model<data/all_members_64/>: 100% 3000/3000 [17:05<00:00,  2.93it/s]\n"
          ]
        }
      ],
      "source": [
        "\n",
        "# Train custom models.\n",
        "\n",
        "if TRAINING_FROM_SCRATCH:\n",
        "    !stylegan2_pytorch --data {MODEL_DATA_DIR} --name {MODEL_NAME} --new --network_capacity {MODEL_NETWORK_CAPACITY} --batch_size 4 \\\n",
        "        --gradient_accumulate_every 4 --num_train_steps {MODEL_NUM_TRAIN_STEPS} --attn_layers {MODEL_ATTENTION_LAYERS} --image_size {MODEL_IMAGE_SIZE} \\\n",
        "        --aug_prob {MODEL_AUGMENTATION_PROBABILITY} --results_dir {CUSTOM_RESULTS_DIR} --models_dir {CUSTOM_MODELS_DIR} --learning_rate {MODEL_LEARNING_RATE} --num_image_tiles 2\n",
        "else:\n",
        "    !stylegan2_pytorch --data {MODEL_DATA_DIR} --name {MODEL_NAME} --network_capacity {MODEL_NETWORK_CAPACITY} --batch_size 4 \\\n",
        "        --gradient_accumulate_every 4 --num_train_steps {MODEL_NUM_TRAIN_STEPS} --attn_layers {MODEL_ATTENTION_LAYERS} --image_size {MODEL_IMAGE_SIZE} \\\n",
        "        --aug_prob {MODEL_AUGMENTATION_PROBABILITY} --results_dir {CUSTOM_RESULTS_DIR} --models_dir {CUSTOM_MODELS_DIR} --learning_rate {MODEL_LEARNING_RATE}"
      ]
    },
    {
      "cell_type": "code",
      "execution_count": 16,
      "metadata": {
        "id": "Y2KY9zrhNoSF",
        "colab": {
          "base_uri": "https://localhost:8080/"
        },
        "outputId": "bf7aea11-8129-4a4e-8adb-74384fec8091"
      },
      "outputs": [
        {
          "output_type": "stream",
          "name": "stdout",
          "text": [
            "continuing from previous epoch - 2\n",
            "100% 100/100 [00:01<00:00, 51.98it/s]\n",
            "interpolation generated at /content/drive/My Drive/StyleGan2_small_set_demo/results/generated_interpolation/all_members_64_model/generated-01-23-2024_11-28-39\n"
          ]
        }
      ],
      "source": [
        "!stylegan2_pytorch --generate_interpolation --name {MODEL_NAME} --num_image_tiles 1  --image_size {MODEL_IMAGE_SIZE} --results_dir {CUSTOM_RESULTS_DIR + \"/generated_interpolation\"} --models_dir {CUSTOM_MODELS_DIR}"
      ]
    },
    {
      "cell_type": "code",
      "execution_count": 17,
      "metadata": {
        "id": "IsaXkZKaPxc4",
        "colab": {
          "base_uri": "https://localhost:8080/"
        },
        "outputId": "5ec0239b-f31a-4814-a0c8-5313d01d7d99"
      },
      "outputs": [
        {
          "output_type": "stream",
          "name": "stdout",
          "text": [
            "continuing from previous epoch - 2\n",
            "sample images generated at /content/drive/My Drive/StyleGan2_small_set_demo/results/generated_images/all_members_64_model/generated-01-23-2024_11-28-47\n",
            "continuing from previous epoch - 2\n",
            "sample images generated at /content/drive/My Drive/StyleGan2_small_set_demo/results/generated_images/all_members_64_model/generated-01-23-2024_11-28-54\n",
            "continuing from previous epoch - 2\n",
            "sample images generated at /content/drive/My Drive/StyleGan2_small_set_demo/results/generated_images/all_members_64_model/generated-01-23-2024_11-28-59\n",
            "continuing from previous epoch - 2\n",
            "sample images generated at /content/drive/My Drive/StyleGan2_small_set_demo/results/generated_images/all_members_64_model/generated-01-23-2024_11-29-06\n",
            "continuing from previous epoch - 2\n",
            "sample images generated at /content/drive/My Drive/StyleGan2_small_set_demo/results/generated_images/all_members_64_model/generated-01-23-2024_11-29-11\n",
            "continuing from previous epoch - 2\n",
            "sample images generated at /content/drive/My Drive/StyleGan2_small_set_demo/results/generated_images/all_members_64_model/generated-01-23-2024_11-29-18\n",
            "continuing from previous epoch - 2\n",
            "sample images generated at /content/drive/My Drive/StyleGan2_small_set_demo/results/generated_images/all_members_64_model/generated-01-23-2024_11-29-23\n",
            "continuing from previous epoch - 2\n",
            "sample images generated at /content/drive/My Drive/StyleGan2_small_set_demo/results/generated_images/all_members_64_model/generated-01-23-2024_11-29-29\n",
            "continuing from previous epoch - 2\n",
            "sample images generated at /content/drive/My Drive/StyleGan2_small_set_demo/results/generated_images/all_members_64_model/generated-01-23-2024_11-29-36\n",
            "continuing from previous epoch - 2\n",
            "sample images generated at /content/drive/My Drive/StyleGan2_small_set_demo/results/generated_images/all_members_64_model/generated-01-23-2024_11-29-42\n"
          ]
        }
      ],
      "source": [
        "number_images_to_generate = 10\n",
        "for el in range(number_images_to_generate):\n",
        "  !stylegan2_pytorch --generate --name {MODEL_NAME} --num_image_tiles 1  --image_size {MODEL_IMAGE_SIZE} --results_dir {CUSTOM_RESULTS_DIR  + \"/generated_images\"} --models_dir {CUSTOM_MODELS_DIR}"
      ]
    },
    {
      "cell_type": "markdown",
      "metadata": {
        "id": "bNHw8TwH0vGY"
      },
      "source": [
        "## Parameters accepted by model:"
      ]
    },
    {
      "cell_type": "code",
      "execution_count": 5,
      "metadata": {
        "id": "L7SFoPxpcgtU"
      },
      "outputs": [],
      "source": [
        "# parameter                 | default   | description\n",
        "#                           |           |\n",
        "# data                      | ./data    | directory containing data\n",
        "# results_dir               | ./results | directory for checkpoint sample images\n",
        "# models_dir                | ./models  | directory for checkpoint models (saves to and loads from here)\n",
        "# name                      | default   | name to identify model (all outputs will be saved to results_dir/name and models_dir/name)\n",
        "# new                       | False     | if True then starts from scratch, else loads from saved checkpoint model\n",
        "# load_from                 | -1        | if -1 then loads from most recent checkpoint, else loads from checkpoint number load_from\n",
        "# image_size                | 128       | size of (square) images generated and for resizing of data\n",
        "# network_capacity          | 16        | affects number of nodes per layer - decrease to train faster with lower output quality\n",
        "# transparent               | False     | if True then uses RGBA, else uses RGB\n",
        "# batch_size                | 3         | number of images per mini-batch (larger uses more GPU memory)\n",
        "# gradient_accumulate_every | 5         | number of mini-batches to process before optimizing (choice depends on batch_size)\n",
        "# num_train_steps           | 150000    | total steps of forward prop (counting starts from number of steps completed in loaded checkpoint)\n",
        "# learning_rate             | 2e-4      | learning rate\n",
        "# num_workers               | None      | if None then uses as many workers as possible from available CPU cores (for data loading)\n",
        "# save_every                | 1000      | every save_every steps, a checkpoint model and sample images are saved\n",
        "# generate                  | False     | if True then generates sample images from loaded model instead of training\n",
        "# generate_interpolation    | False     | if True then generates .gif interpolation from loaded model instead of training, else does not\n",
        "# num_image_tiles           | 8         | generated samples will be a grid of (num_image_tiles x num_image_tiles) images\n",
        "# trunc_psi                 | 0.75      | affects how far generate images can be from average image (increase for more diversity) w_new = psi * w + (1 - psi) * w_avg\n",
        "# fp16                      | False     | if True then uses fp16 half-precision to lower GPU memory usage (requires apex), else uses full-precision\n",
        "# cl_reg                    | False     | if True then uses contrastive learning on discriminator (possibly improves stability and quality), else does not\n",
        "# fq_layers                 | []        | list of layers to apply feature (intermediate representation) vector quantization to (can improve results, but not dramatically)\n",
        "# fq_dict_size              | 256       | dictionary size for feature quantization\n",
        "# attn_layers               | []        | list of layers to apply self-attention to while training (can be empty; do not use spaces; up to log2(image_size) - 1 layers)\n",
        "# no_const                  | False     | if True then 4x4 block is learned from style vector, else styles a constant learned 4x4 block through progressive upsampling\n",
        "# aug_prob                  | 0.0       | probability of applying differentiable augmentation to images fed to discriminator"
      ]
    },
    {
      "cell_type": "code",
      "source": [],
      "metadata": {
        "id": "UzdoqyfKwxRR"
      },
      "execution_count": 5,
      "outputs": []
    }
  ],
  "metadata": {
    "accelerator": "GPU",
    "colab": {
      "provenance": [],
      "include_colab_link": true
    },
    "kernelspec": {
      "display_name": "Python 3",
      "name": "python3"
    }
  },
  "nbformat": 4,
  "nbformat_minor": 0
}